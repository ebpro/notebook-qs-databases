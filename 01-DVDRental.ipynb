{
 "cells": [
  {
   "cell_type": "code",
   "execution_count": 1,
   "id": "2b1bbc47-4538-4bb8-b094-851220be36f7",
   "metadata": {
    "tags": []
   },
   "outputs": [],
   "source": [
    "%reload_ext sql\n",
    "%sql postgresql://localhost/dvdrental"
   ]
  },
  {
   "cell_type": "code",
   "execution_count": 28,
   "id": "6b6fcea5-4b80-4e16-b9fc-51bb550f4ef3",
   "metadata": {
    "tags": []
   },
   "outputs": [
    {
     "name": "stdout",
     "output_type": "stream",
     "text": [
      " * postgresql://localhost/dvdrental\n",
      "2 rows affected.\n"
     ]
    },
    {
     "data": {
      "text/html": [
       "<table>\n",
       "    <thead>\n",
       "        <tr>\n",
       "            <th>name</th>\n",
       "            <th>email</th>\n",
       "        </tr>\n",
       "    </thead>\n",
       "    <tbody>\n",
       "        <tr>\n",
       "            <td>Mary Smith</td>\n",
       "            <td>mary.smith@sakilacustomer.org</td>\n",
       "        </tr>\n",
       "        <tr>\n",
       "            <td>Rosemary Schmidt</td>\n",
       "            <td>rosemary.schmidt@sakilacustomer.org</td>\n",
       "        </tr>\n",
       "    </tbody>\n",
       "</table>"
      ],
      "text/plain": [
       "[('Mary Smith', 'mary.smith@sakilacustomer.org'),\n",
       " ('Rosemary Schmidt', 'rosemary.schmidt@sakilacustomer.org')]"
      ]
     },
     "execution_count": 28,
     "metadata": {},
     "output_type": "execute_result"
    }
   ],
   "source": [
    "%%sql\n",
    "SELECT first_name||' '||last_name as name,\n",
    "   email\n",
    "FROM\n",
    "   customer\n",
    "WHERE\n",
    "   first_name ilike '%mary';"
   ]
  },
  {
   "cell_type": "code",
   "execution_count": null,
   "id": "345bfc4c-2f2b-437c-a2db-669fe600965b",
   "metadata": {},
   "outputs": [],
   "source": []
  }
 ],
 "metadata": {
  "kernelspec": {
   "display_name": "Python 3 (ipykernel)",
   "language": "python",
   "name": "python3"
  },
  "language_info": {
   "codemirror_mode": {
    "name": "ipython",
    "version": 3
   },
   "file_extension": ".py",
   "mimetype": "text/x-python",
   "name": "python",
   "nbconvert_exporter": "python",
   "pygments_lexer": "ipython3",
   "version": "3.10.10"
  }
 },
 "nbformat": 4,
 "nbformat_minor": 5
}
