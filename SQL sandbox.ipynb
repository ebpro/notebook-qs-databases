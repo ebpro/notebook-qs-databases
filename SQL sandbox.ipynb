{
 "cells": [
  {
   "cell_type": "markdown",
   "id": "9ea52343-cc9d-4b99-9da9-6fdab656e9f1",
   "metadata": {},
   "source": [
    "# SGBDR avec PostgreSQL dans un notebook\n",
    "Ce notebook est une première ébacuhe pour tester ce qu'il est possible de faire pour apprendre les bases de données relationnelles en utilisant des notebooks Jupyter."
   ]
  },
  {
   "cell_type": "markdown",
   "id": "106e64f2-2480-406a-9a8b-69759603c37a",
   "metadata": {},
   "source": [
    "## Modélisation \n",
    "\n",
    "### MEA\n",
    "Un MEA peut etre réalisé simplement avec [MoCoDo](https://rawgit.com/laowantong/mocodo/master/doc/fr_refman.html).\n",
    "Cet outils permet entre autres de générer à partir d'une description textuelle, le schéma, le passage vers le modèle relationnel (relations, diagramme des tables et script de création)."
   ]
  },
  {
   "cell_type": "code",
   "execution_count": 1,
   "id": "cf6ab1d7-a631-4e6e-8423-76d0fe89346e",
   "metadata": {
    "tags": []
   },
   "outputs": [
    {
     "name": "stdout",
     "output_type": "stream",
     "text": [
      "Mocodo 3.1.1 loaded.\n"
     ]
    }
   ],
   "source": [
    "%reload_ext mocodo"
   ]
  },
  {
   "cell_type": "code",
   "execution_count": 2,
   "id": "03b3dec1-10c1-4018-88e0-9c0c750d8b60",
   "metadata": {
    "tags": []
   },
   "outputs": [
    {
     "data": {
      "image/svg+xml": [
       "<svg xmlns=\"http://www.w3.org/2000/svg\" width=\"364\" height=\"200\" viewBox=\"0 0 364 200\">\n",
       "<rect id=\"frame\" x=\"0\" y=\"0\" width=\"364\" height=\"200\" fill=\"#FFF\" stroke=\"none\" stroke-width=\"0\"/>\n",
       "\n",
       "<!-- Association Inclut -->\n",
       "<g>\n",
       "\t<line x1=\"316\" y1=\"44\" x2=\"203\" y2=\"44\" stroke=\"#000\" stroke-width=\"1\"/>\n",
       "\t<text x=\"249\" y=\"36\" fill=\"#000\" font-family=\"Courier New\" font-size=\"12\">1,N</text>\n",
       "\t<line x1=\"69\" y1=\"44\" x2=\"203\" y2=\"44\" stroke=\"#000\" stroke-width=\"1\"/>\n",
       "\t<text x=\"134\" y=\"60\" fill=\"#000\" font-family=\"Courier New\" font-size=\"12\">0,N</text>\n",
       "\t<g>\n",
       "\t\t<path d=\"M230 18 a14 14 90 0 1 14 14 V44 h-82 V32 a14 14 90 0 1 14 -14\" fill=\"#FFF\" stroke=\"#FFF\" stroke-width=\"0\"/>\n",
       "\t\t<path d=\"M244 44 v12 a14 14 90 0 1 -14 14 H176 a14 14 90 0 1 -14 -14 V44 H82\" fill=\"#FFF\" stroke=\"#FFF\" stroke-width=\"0\"/>\n",
       "\t\t<rect x=\"162\" y=\"18\" width=\"82\" height=\"52\" fill=\"none\" rx=\"14\" stroke=\"#000\" stroke-width=\"1.5\"/>\n",
       "\t\t<line x1=\"162\" y1=\"44\" x2=\"244\" y2=\"44\" stroke=\"#000\" stroke-width=\"1\"/>\n",
       "\t\t<text x=\"177\" y=\"36.6\" fill=\"#000\" font-family=\"Courier New\" font-size=\"14\">Inclut</text>\n",
       "\t\t<text x=\"169\" y=\"62.6\" fill=\"#000\" font-family=\"Courier New\" font-size=\"14\">Quantité</text>\n",
       "\t</g>\n",
       "</g>\n",
       "\n",
       "<!-- Association Passe -->\n",
       "<g>\n",
       "\t<line x1=\"69\" y1=\"147\" x2=\"203\" y2=\"147\" stroke=\"#000\" stroke-width=\"1\"/>\n",
       "\t<text x=\"105\" y=\"163\" fill=\"#000\" font-family=\"Courier New\" font-size=\"12\">0,N</text>\n",
       "\t<line x1=\"316\" y1=\"44\" x2=\"203\" y2=\"147\" stroke=\"#000\" stroke-width=\"1\"/>\n",
       "\t<text x=\"275.99\" y=\"95\" fill=\"#000\" font-family=\"Courier New\" font-size=\"12\">1,1</text>\n",
       "\t<g>\n",
       "\t\t<path d=\"M218 121 a14 14 90 0 1 14 14 V147 h-58 V135 a14 14 90 0 1 14 -14\" fill=\"#FFF\" stroke=\"#FFF\" stroke-width=\"0\"/>\n",
       "\t\t<path d=\"M232 147 v12 a14 14 90 0 1 -14 14 H188 a14 14 90 0 1 -14 -14 V147 H58\" fill=\"#FFF\" stroke=\"#FFF\" stroke-width=\"0\"/>\n",
       "\t\t<rect x=\"174\" y=\"121\" width=\"58\" height=\"52\" fill=\"none\" rx=\"14\" stroke=\"#000\" stroke-width=\"1.5\"/>\n",
       "\t\t<line x1=\"174\" y1=\"147\" x2=\"232\" y2=\"147\" stroke=\"#000\" stroke-width=\"1\"/>\n",
       "\t\t<text x=\"182\" y=\"139.6\" fill=\"#000\" font-family=\"Courier New\" font-size=\"14\">Passe</text>\n",
       "\t</g>\n",
       "</g>\n",
       "\n",
       "<!-- Entity PRODUIT -->\n",
       "<g>\n",
       "\t<g>\n",
       "\t\t<rect x=\"9\" y=\"9\" width=\"120\" height=\"26\" fill=\"#FFF\" stroke=\"#FFF\" stroke-width=\"0\" opacity=\"1\"/>\n",
       "\t\t<rect x=\"9\" y=\"35\" width=\"120\" height=\"44\" fill=\"#FFF\" stroke=\"#FFF\" stroke-width=\"0\" opacity=\"1\"/>\n",
       "\t\t<rect x=\"9\" y=\"9\" width=\"120\" height=\"70\" fill=\"none\" stroke=\"#000\" stroke-width=\"1.5\" opacity=\"1\"/>\n",
       "\t\t<line x1=\"9\" y1=\"35\" x2=\"129\" y2=\"35\" stroke=\"#000\" stroke-width=\"1\"/>\n",
       "\t</g>\n",
       "\t<text x=\"39\" y=\"27.6\" fill=\"#000\" font-family=\"Courier New\" font-size=\"14\">PRODUIT</text>\n",
       "\t<text x=\"14\" y=\"53.6\" fill=\"#000\" font-family=\"Courier New\" font-size=\"14\">code</text>\n",
       "\t<line x1=\"14\" y1=\"56\" x2=\"49\" y2=\"56\" stroke=\"#000\" stroke-width=\"1\"/>\n",
       "\t<text x=\"14\" y=\"71.6\" fill=\"#000\" font-family=\"Courier New\" font-size=\"14\">prix_unitaire</text>\n",
       "</g>\n",
       "\n",
       "<!-- Entity COMMANDE -->\n",
       "<g>\n",
       "\t<g>\n",
       "\t\t<rect x=\"277\" y=\"9\" width=\"78\" height=\"26\" fill=\"#FFF\" stroke=\"#FFF\" stroke-width=\"0\" opacity=\"1\"/>\n",
       "\t\t<rect x=\"277\" y=\"35\" width=\"78\" height=\"44\" fill=\"#FFF\" stroke=\"#FFF\" stroke-width=\"0\" opacity=\"1\"/>\n",
       "\t\t<rect x=\"277\" y=\"9\" width=\"78\" height=\"70\" fill=\"none\" stroke=\"#000\" stroke-width=\"1.5\" opacity=\"1\"/>\n",
       "\t\t<line x1=\"277\" y1=\"35\" x2=\"355\" y2=\"35\" stroke=\"#000\" stroke-width=\"1\"/>\n",
       "\t</g>\n",
       "\t<text x=\"282\" y=\"27.6\" fill=\"#000\" font-family=\"Courier New\" font-size=\"14\">COMMANDE</text>\n",
       "\t<text x=\"282\" y=\"53.6\" fill=\"#000\" font-family=\"Courier New\" font-size=\"14\">numero</text>\n",
       "\t<line x1=\"282\" y1=\"56\" x2=\"334\" y2=\"56\" stroke=\"#000\" stroke-width=\"1\"/>\n",
       "\t<text x=\"282\" y=\"71.6\" fill=\"#000\" font-family=\"Courier New\" font-size=\"14\">date</text>\n",
       "</g>\n",
       "\n",
       "<!-- Entity CLIENT -->\n",
       "<g>\n",
       "\t<g>\n",
       "\t\t<rect x=\"38\" y=\"103\" width=\"62\" height=\"26\" fill=\"#FFF\" stroke=\"#FFF\" stroke-width=\"0\" opacity=\"1\"/>\n",
       "\t\t<rect x=\"38\" y=\"129\" width=\"62\" height=\"62\" fill=\"#FFF\" stroke=\"#FFF\" stroke-width=\"0\" opacity=\"1\"/>\n",
       "\t\t<rect x=\"38\" y=\"103\" width=\"62\" height=\"88\" fill=\"none\" stroke=\"#000\" stroke-width=\"1.5\" opacity=\"1\"/>\n",
       "\t\t<line x1=\"38\" y1=\"129\" x2=\"100\" y2=\"129\" stroke=\"#000\" stroke-width=\"1\"/>\n",
       "\t</g>\n",
       "\t<text x=\"43\" y=\"121.6\" fill=\"#000\" font-family=\"Courier New\" font-size=\"14\">CLIENT</text>\n",
       "\t<text x=\"43\" y=\"147.6\" fill=\"#000\" font-family=\"Courier New\" font-size=\"14\">email</text>\n",
       "\t<line x1=\"43\" y1=\"150\" x2=\"86\" y2=\"150\" stroke=\"#000\" stroke-width=\"1\"/>\n",
       "\t<text x=\"43\" y=\"165.6\" fill=\"#000\" font-family=\"Courier New\" font-size=\"14\">nom</text>\n",
       "\t<text x=\"43\" y=\"183.6\" fill=\"#000\" font-family=\"Courier New\" font-size=\"14\">prenom</text>\n",
       "</g>\n",
       "</svg>"
      ],
      "text/plain": [
       "<IPython.core.display.SVG object>"
      ]
     },
     "metadata": {},
     "output_type": "display_data"
    },
    {
     "data": {
      "text/html": [
       "<html>\n",
       "<head>\n",
       "<meta charset='utf-8'>\n",
       "<style>\n",
       "  #mld .relation { font-variant: small-caps; font-weight: bold }\n",
       "  #mld .primary { text-decoration: underline }\n",
       "  #mld .foreign { font-style: oblique }\n",
       "  #mld .normal { }\n",
       "</style>\n",
       "</head>\n",
       "<body>\n",
       "<div id='mld'>\n",
       "<div>\n",
       "  <span class='relation'>CLIENT</span> (\n",
       "    <span class='primary'>email</span>,\n",
       "    <span class='normal'>nom</span>,\n",
       "    <span class='normal'>prenom</span>\n",
       "  )\n",
       "</div>\n",
       "<div>\n",
       "  <span class='relation'>COMMANDE</span> (\n",
       "    <span class='primary'>numero</span>,\n",
       "    <span class='normal'>date</span>,\n",
       "    <span class='foreign'>#email</span>\n",
       "  )\n",
       "</div>\n",
       "<div>\n",
       "  <span class='relation'>Inclut</span> (\n",
       "    <span class='foreign primary'>#numero</span>,\n",
       "    <span class='foreign primary'>#code</span>,\n",
       "    <span class='normal'>Quantité</span>\n",
       "  )\n",
       "</div>\n",
       "<div>\n",
       "  <span class='relation'>PRODUIT</span> (\n",
       "    <span class='primary'>code</span>,\n",
       "    <span class='normal'>prix_unitaire</span>\n",
       "  )\n",
       "</div>\n",
       "</div>\n",
       "</body>\n",
       "</html>"
      ],
      "text/plain": [
       "<IPython.core.display.HTML object>"
      ]
     },
     "metadata": {},
     "output_type": "display_data"
    }
   ],
   "source": [
    "%%mocodo --title=client_commande --mld --relations diagram markdown_data_dict postgresql mysql oracle markdown_verbose\n",
    "PRODUIT: code, prix_unitaire\n",
    "Inclut, 1N COMMANDE, 0N PRODUIT: Quantité    \n",
    "COMMANDE: numero, date\n",
    "    \n",
    "CLIENT: email, nom, prenom\n",
    "Passe, 0N CLIENT, 11 COMMANDE    "
   ]
  },
  {
   "cell_type": "code",
   "execution_count": 3,
   "id": "14236e0f-3be3-4a0a-9e5a-85b6693fbd8a",
   "metadata": {
    "tags": []
   },
   "outputs": [
    {
     "data": {
      "text/markdown": [
       "- email\n",
       "- nom\n",
       "- prenom\n",
       "- numero\n",
       "- date\n",
       "- Quantité\n",
       "- code\n",
       "- prix_unitaire"
      ],
      "text/plain": [
       "<IPython.core.display.Markdown object>"
      ]
     },
     "metadata": {},
     "output_type": "display_data"
    },
    {
     "data": {
      "text/markdown": [
       "**CLIENT** (<ins>email</ins>, nom, prenom)  \n",
       "- Le champ _email_ constitue la clé primaire de la table. C'était déjà un identifiant de l'entité _CLIENT_.  \n",
       "- Les champs _nom_ et _prenom_ étaient déjà de simples attributs de l'entité _CLIENT_.  \n",
       "\n",
       "**COMMANDE** (<ins>numero</ins>, date, _#email_)  \n",
       "- Le champ _numero_ constitue la clé primaire de la table. C'était déjà un identifiant de l'entité _COMMANDE_.  \n",
       "- Le champ _date_ était déjà un simple attribut de l'entité _COMMANDE_.  \n",
       "- Le champ _email_ est une clé étrangère. Il a migré par l'association de dépendance fonctionnelle _Passe_ à partir de l'entité _CLIENT_ en perdant son caractère identifiant.  \n",
       "\n",
       "**Inclut** (<ins>_#numero_</ins>, <ins>_#code_</ins>, Quantité)  \n",
       "- Le champ _numero_ fait partie de la clé primaire de la table. C'est une clé étrangère qui a migré directement à partir de l'entité _COMMANDE_.  \n",
       "- Le champ _code_ fait partie de la clé primaire de la table. C'est une clé étrangère qui a migré directement à partir de l'entité _PRODUIT_.  \n",
       "- Le champ _Quantité_ était déjà un simple attribut de l'association _Inclut_.  \n",
       "\n",
       "**PRODUIT** (<ins>code</ins>, prix_unitaire)  \n",
       "- Le champ _code_ constitue la clé primaire de la table. C'était déjà un identifiant de l'entité _PRODUIT_.  \n",
       "- Le champ _prix_unitaire_ était déjà un simple attribut de l'entité _PRODUIT_."
      ],
      "text/plain": [
       "<IPython.core.display.Markdown object>"
      ]
     },
     "metadata": {},
     "output_type": "display_data"
    }
   ],
   "source": [
    "from IPython.display import Markdown, display\n",
    "display(Markdown(\"mocodo_notebook/sandbox_data_dict.md\"))\n",
    "display(Markdown(\"mocodo_notebook/sandbox_verbose.md\"))"
   ]
  },
  {
   "cell_type": "code",
   "execution_count": 4,
   "id": "2e4b123b-29e2-456b-a7df-8b484397163b",
   "metadata": {
    "tags": []
   },
   "outputs": [
    {
     "data": {
      "image/svg+xml": [
       "<svg xmlns=\"http://www.w3.org/2000/svg\" width=\"492\" height=\"209\" viewBox=\"0 0 492 209\">\n",
       "<rect id=\"frame\" x=\"0\" y=\"0\" width=\"492\" height=\"209\" fill=\"#FFF\" stroke=\"none\" stroke-width=\"0\"/>\n",
       "\n",
       "<!-- Entity PRODUIT -->\n",
       "<g>\n",
       "\t<g>\n",
       "\t\t<rect x=\"42\" y=\"18\" width=\"120\" height=\"26\" fill=\"#FFF\" stroke=\"#FFF\" stroke-width=\"0\" opacity=\"1\"/>\n",
       "\t\t<rect x=\"42\" y=\"44\" width=\"120\" height=\"44\" fill=\"#FFF\" stroke=\"#FFF\" stroke-width=\"0\" opacity=\"1\"/>\n",
       "\t\t<rect x=\"42\" y=\"18\" width=\"120\" height=\"70\" fill=\"none\" stroke=\"#000\" stroke-width=\"1.5\" opacity=\"1\"/>\n",
       "\t\t<line x1=\"42\" y1=\"44\" x2=\"162\" y2=\"44\" stroke=\"#000\" stroke-width=\"1\"/>\n",
       "\t</g>\n",
       "\t<text x=\"72\" y=\"36.6\" fill=\"#000\" font-family=\"Courier New\" font-size=\"14\">PRODUIT</text>\n",
       "\t<text x=\"47\" y=\"62.6\" fill=\"#000\" font-family=\"Courier New\" font-size=\"14\">code</text>\n",
       "\t<line x1=\"47\" y1=\"65\" x2=\"82\" y2=\"65\" stroke=\"#000\" stroke-width=\"1\"/>\n",
       "\t<text x=\"47\" y=\"80.6\" fill=\"#000\" font-family=\"Courier New\" font-size=\"14\">prix_unitaire</text>\n",
       "</g>\n",
       "\n",
       "<!-- Entity Inclut -->\n",
       "<g>\n",
       "\t<g>\n",
       "\t\t<rect x=\"228\" y=\"9\" width=\"78\" height=\"26\" fill=\"#FFF\" stroke=\"#FFF\" stroke-width=\"0\" opacity=\"1\"/>\n",
       "\t\t<rect x=\"228\" y=\"35\" width=\"78\" height=\"62\" fill=\"#FFF\" stroke=\"#FFF\" stroke-width=\"0\" opacity=\"1\"/>\n",
       "\t\t<rect x=\"228\" y=\"9\" width=\"78\" height=\"88\" fill=\"none\" stroke=\"#000\" stroke-width=\"1.5\" opacity=\"1\"/>\n",
       "\t\t<line x1=\"228\" y1=\"35\" x2=\"306\" y2=\"35\" stroke=\"#000\" stroke-width=\"1\"/>\n",
       "\t</g>\n",
       "\t<text x=\"241\" y=\"27.6\" fill=\"#000\" font-family=\"Courier New\" font-size=\"14\">Inclut</text>\n",
       "\t<text x=\"233\" y=\"53.6\" fill=\"#000\" font-family=\"Courier New\" font-size=\"14\">#numero</text>\n",
       "\t<line x1=\"233\" y1=\"56\" x2=\"293\" y2=\"56\" stroke=\"#000\" stroke-width=\"1\"/>\n",
       "\t<text x=\"233\" y=\"71.6\" fill=\"#000\" font-family=\"Courier New\" font-size=\"14\">#code</text>\n",
       "\t<line x1=\"233\" y1=\"74\" x2=\"276\" y2=\"74\" stroke=\"#000\" stroke-width=\"1\"/>\n",
       "\t<text x=\"233\" y=\"89.6\" fill=\"#000\" font-family=\"Courier New\" font-size=\"14\">Quantité</text>\n",
       "</g>\n",
       "\n",
       "<!-- Entity COMMANDE -->\n",
       "<g>\n",
       "\t<g>\n",
       "\t\t<rect x=\"372\" y=\"9\" width=\"78\" height=\"26\" fill=\"#FFF\" stroke=\"#FFF\" stroke-width=\"0\" opacity=\"1\"/>\n",
       "\t\t<rect x=\"372\" y=\"35\" width=\"78\" height=\"62\" fill=\"#FFF\" stroke=\"#FFF\" stroke-width=\"0\" opacity=\"1\"/>\n",
       "\t\t<rect x=\"372\" y=\"9\" width=\"78\" height=\"88\" fill=\"none\" stroke=\"#000\" stroke-width=\"1.5\" opacity=\"1\"/>\n",
       "\t\t<line x1=\"372\" y1=\"35\" x2=\"450\" y2=\"35\" stroke=\"#000\" stroke-width=\"1\"/>\n",
       "\t</g>\n",
       "\t<text x=\"377\" y=\"27.6\" fill=\"#000\" font-family=\"Courier New\" font-size=\"14\">COMMANDE</text>\n",
       "\t<text x=\"377\" y=\"53.6\" fill=\"#000\" font-family=\"Courier New\" font-size=\"14\">numero</text>\n",
       "\t<line x1=\"377\" y1=\"56\" x2=\"429\" y2=\"56\" stroke=\"#000\" stroke-width=\"1\"/>\n",
       "\t<text x=\"377\" y=\"71.6\" fill=\"#000\" font-family=\"Courier New\" font-size=\"14\">date</text>\n",
       "\t<text x=\"377\" y=\"89.6\" fill=\"#000\" font-family=\"Courier New\" font-size=\"14\">#email</text>\n",
       "</g>\n",
       "\n",
       "<!-- Entity CLIENT -->\n",
       "<g>\n",
       "\t<g>\n",
       "\t\t<rect x=\"71\" y=\"112\" width=\"62\" height=\"26\" fill=\"#FFF\" stroke=\"#FFF\" stroke-width=\"0\" opacity=\"1\"/>\n",
       "\t\t<rect x=\"71\" y=\"138\" width=\"62\" height=\"62\" fill=\"#FFF\" stroke=\"#FFF\" stroke-width=\"0\" opacity=\"1\"/>\n",
       "\t\t<rect x=\"71\" y=\"112\" width=\"62\" height=\"88\" fill=\"none\" stroke=\"#000\" stroke-width=\"1.5\" opacity=\"1\"/>\n",
       "\t\t<line x1=\"71\" y1=\"138\" x2=\"133\" y2=\"138\" stroke=\"#000\" stroke-width=\"1\"/>\n",
       "\t</g>\n",
       "\t<text x=\"76\" y=\"130.6\" fill=\"#000\" font-family=\"Courier New\" font-size=\"14\">CLIENT</text>\n",
       "\t<text x=\"76\" y=\"156.6\" fill=\"#000\" font-family=\"Courier New\" font-size=\"14\">email</text>\n",
       "\t<line x1=\"76\" y1=\"159\" x2=\"119\" y2=\"159\" stroke=\"#000\" stroke-width=\"1\"/>\n",
       "\t<text x=\"76\" y=\"174.6\" fill=\"#000\" font-family=\"Courier New\" font-size=\"14\">nom</text>\n",
       "\t<text x=\"76\" y=\"192.6\" fill=\"#000\" font-family=\"Courier New\" font-size=\"14\">prenom</text>\n",
       "</g>\n",
       "\n",
       "<!-- Link from &quot;numero&quot; (Inclut) to &quot;numero&quot; (COMMANDE) -->\n",
       "<path d=\"M306 49 C339 49 328 49 372 49\" fill=\"none\" stroke=\"#000\" stroke-width=\"1\"/>\n",
       "<polygon points=\"372 49 360 55 364 49 360 43\" fill=\"#000\" stroke-width=\"0\"/>\n",
       "<circle cx=\"306\" cy=\"49\" r=\"1.5\" stroke=\"#000\" stroke-width=\"1.5\" fill=\"#000\"/>\n",
       "\n",
       "<!-- Link from &quot;code&quot; (Inclut) to &quot;code&quot; (PRODUIT) -->\n",
       "<path d=\"M228 67 C195 62.5 206 58 162 58\" fill=\"none\" stroke=\"#000\" stroke-width=\"1\"/>\n",
       "<polygon points=\"162 58 174 52 170 58 174 64\" fill=\"#000\" stroke-width=\"0\"/>\n",
       "<circle cx=\"228\" cy=\"67\" r=\"1.5\" stroke=\"#000\" stroke-width=\"1.5\" fill=\"#000\"/>\n",
       "\n",
       "<!-- Link from &quot;email&quot; (COMMANDE) to &quot;email&quot; (CLIENT) -->\n",
       "<path d=\"M372 85 C252.5 118.5 292.33 152 133 152\" fill=\"none\" stroke=\"#000\" stroke-width=\"1\"/>\n",
       "<polygon points=\"133 152 145 146 141 152 145 158\" fill=\"#000\" stroke-width=\"0\"/>\n",
       "<circle cx=\"372\" cy=\"85\" r=\"1.5\" stroke=\"#000\" stroke-width=\"1.5\" fill=\"#000\"/>\n",
       "</svg>"
      ],
      "text/plain": [
       "<IPython.core.display.SVG object>"
      ]
     },
     "metadata": {},
     "output_type": "display_data"
    }
   ],
   "source": [
    "mocodo --input mocodo_notebook/sandbox.mld"
   ]
  },
  {
   "cell_type": "markdown",
   "id": "685c0300-3bf6-4633-840d-6b068f2619ac",
   "metadata": {
    "user_expressions": []
   },
   "source": [
    "Les scripts SQL sont disponibles pour [PostgreSQL](mocodo_notebook/sandbox_postgresql.sql), [MySQL](mocodo_notebook/sandbox_mysql.sql) et [Oracle](mocodo_notebook/sandbox_oracle.sql).."
   ]
  },
  {
   "cell_type": "markdown",
   "id": "c4723176-0684-4eec-ba60-d91597046d74",
   "metadata": {
    "user_expressions": []
   },
   "source": [
    "### UML\n",
    "Il est possible de construire simplement des diagrammes (dont UML) en utilisant [PlantUML](https://plantuml.com)."
   ]
  },
  {
   "cell_type": "code",
   "execution_count": 5,
   "id": "d9f7e6ac-7e6e-4870-8bdd-3f9620d6899d",
   "metadata": {
    "tags": []
   },
   "outputs": [],
   "source": [
    "import iplantuml"
   ]
  },
  {
   "cell_type": "code",
   "execution_count": 6,
   "id": "82f26e33-c402-4a03-9d17-3878868b4a12",
   "metadata": {
    "tags": []
   },
   "outputs": [
    {
     "data": {
      "image/svg+xml": [
       "<svg xmlns=\"http://www.w3.org/2000/svg\" xmlns:xlink=\"http://www.w3.org/1999/xlink\" contentScriptType=\"application/ecmascript\" contentStyleType=\"text/css\" height=\"377px\" preserveAspectRatio=\"none\" style=\"width:420px;height:377px;\" version=\"1.1\" viewBox=\"0 0 420 377\" width=\"420px\" zoomAndPan=\"magnify\"><defs><filter height=\"300%\" id=\"ffz6n8r6r73x1\" width=\"300%\" x=\"-1\" y=\"-1\"><feGaussianBlur result=\"blurOut\" stdDeviation=\"2.0\"/><feColorMatrix in=\"blurOut\" result=\"blurOut2\" type=\"matrix\" values=\"0 0 0 0 0 0 0 0 0 0 0 0 0 0 0 0 0 0 .4 0\"/><feOffset dx=\"4.0\" dy=\"4.0\" in=\"blurOut2\" result=\"blurOut3\"/><feBlend in=\"SourceGraphic\" in2=\"blurOut3\" mode=\"normal\"/></filter></defs><g><!--MD5=[67795369a0169a6ec527a79565ea23e1]\n",
       "class Commande--><rect fill=\"#FEFECE\" filter=\"url(#ffz6n8r6r73x1)\" height=\"73.6094\" id=\"Commande\" style=\"stroke: #A80036; stroke-width: 1.5;\" width=\"122\" x=\"6\" y=\"171\"/><ellipse cx=\"30\" cy=\"187\" fill=\"#ADD1B2\" rx=\"11\" ry=\"11\" style=\"stroke: #A80036; stroke-width: 1.0;\"/><path d=\"M32.9688,192.6406 Q32.3906,192.9375 31.75,193.0781 Q31.1094,193.2344 30.4063,193.2344 Q27.9063,193.2344 26.5781,191.5938 Q25.2656,189.9375 25.2656,186.8125 Q25.2656,183.6875 26.5781,182.0313 Q27.9063,180.375 30.4063,180.375 Q31.1094,180.375 31.75,180.5313 Q32.4063,180.6875 32.9688,180.9844 L32.9688,183.7031 Q32.3438,183.125 31.75,182.8594 Q31.1563,182.5781 30.5313,182.5781 Q29.1875,182.5781 28.5,183.6563 Q27.8125,184.7188 27.8125,186.8125 Q27.8125,188.9063 28.5,189.9844 Q29.1875,191.0469 30.5313,191.0469 Q31.1563,191.0469 31.75,190.7813 Q32.3438,190.5 32.9688,189.9219 L32.9688,192.6406 Z \"/><text fill=\"#000000\" font-family=\"sans-serif\" font-size=\"12\" lengthAdjust=\"spacingAndGlyphs\" textLength=\"70\" x=\"46\" y=\"191.1543\">Commande</text><line style=\"stroke: #A80036; stroke-width: 1.5;\" x1=\"7\" x2=\"127\" y1=\"203\" y2=\"203\"/><rect fill=\"none\" height=\"6\" style=\"stroke: #C82930; stroke-width: 1.0;\" width=\"6\" x=\"14\" y=\"211\"/><text fill=\"#000000\" font-family=\"sans-serif\" font-size=\"11\" lengthAdjust=\"spacingAndGlyphs\" textLength=\"96\" x=\"26\" y=\"217.2104\">numero : Integer</text><rect fill=\"none\" height=\"6\" style=\"stroke: #C82930; stroke-width: 1.0;\" width=\"6\" x=\"14\" y=\"223.8047\"/><text fill=\"#000000\" font-family=\"sans-serif\" font-size=\"11\" lengthAdjust=\"spacingAndGlyphs\" textLength=\"63\" x=\"26\" y=\"230.0151\">date : Date</text><line style=\"stroke: #A80036; stroke-width: 1.5;\" x1=\"7\" x2=\"127\" y1=\"236.6094\" y2=\"236.6094\"/><!--MD5=[67e1aed5c2f4d55f1a3a0cfbc189f220]\n",
       "class Produit--><rect fill=\"#FEFECE\" filter=\"url(#ffz6n8r6r73x1)\" height=\"73.6094\" id=\"Produit\" style=\"stroke: #A80036; stroke-width: 1.5;\" width=\"143\" x=\"266.5\" y=\"171\"/><ellipse cx=\"311.25\" cy=\"187\" fill=\"#ADD1B2\" rx=\"11\" ry=\"11\" style=\"stroke: #A80036; stroke-width: 1.0;\"/><path d=\"M314.2188,192.6406 Q313.6406,192.9375 313,193.0781 Q312.3594,193.2344 311.6563,193.2344 Q309.1563,193.2344 307.8281,191.5938 Q306.5156,189.9375 306.5156,186.8125 Q306.5156,183.6875 307.8281,182.0313 Q309.1563,180.375 311.6563,180.375 Q312.3594,180.375 313,180.5313 Q313.6563,180.6875 314.2188,180.9844 L314.2188,183.7031 Q313.5938,183.125 313,182.8594 Q312.4063,182.5781 311.7813,182.5781 Q310.4375,182.5781 309.75,183.6563 Q309.0625,184.7188 309.0625,186.8125 Q309.0625,188.9063 309.75,189.9844 Q310.4375,191.0469 311.7813,191.0469 Q312.4063,191.0469 313,190.7813 Q313.5938,190.5 314.2188,189.9219 L314.2188,192.6406 Z \"/><text fill=\"#000000\" font-family=\"sans-serif\" font-size=\"12\" lengthAdjust=\"spacingAndGlyphs\" textLength=\"45\" x=\"331.75\" y=\"191.1543\">Produit</text><line style=\"stroke: #A80036; stroke-width: 1.5;\" x1=\"267.5\" x2=\"408.5\" y1=\"203\" y2=\"203\"/><rect fill=\"none\" height=\"6\" style=\"stroke: #C82930; stroke-width: 1.0;\" width=\"6\" x=\"274.5\" y=\"211\"/><text fill=\"#000000\" font-family=\"sans-serif\" font-size=\"11\" lengthAdjust=\"spacingAndGlyphs\" textLength=\"79\" x=\"286.5\" y=\"217.2104\">code : Integer</text><rect fill=\"none\" height=\"6\" style=\"stroke: #C82930; stroke-width: 1.0;\" width=\"6\" x=\"274.5\" y=\"223.8047\"/><text fill=\"#000000\" font-family=\"sans-serif\" font-size=\"11\" lengthAdjust=\"spacingAndGlyphs\" textLength=\"117\" x=\"286.5\" y=\"230.0151\">prixUnitaire : Integer</text><line style=\"stroke: #A80036; stroke-width: 1.5;\" x1=\"267.5\" x2=\"408.5\" y1=\"236.6094\" y2=\"236.6094\"/><!--MD5=[6268cb79eb80437938a1cabad0775594]\n",
       "class LigneDeCommande--><rect fill=\"#FEFECE\" filter=\"url(#ffz6n8r6r73x1)\" height=\"60.8047\" id=\"LigneDeCommande\" style=\"stroke: #A80036; stroke-width: 1.5;\" width=\"152\" x=\"153\" y=\"306\"/><ellipse cx=\"168\" cy=\"322\" fill=\"#ADD1B2\" rx=\"11\" ry=\"11\" style=\"stroke: #A80036; stroke-width: 1.0;\"/><path d=\"M170.9688,327.6406 Q170.3906,327.9375 169.75,328.0781 Q169.1094,328.2344 168.4063,328.2344 Q165.9063,328.2344 164.5781,326.5938 Q163.2656,324.9375 163.2656,321.8125 Q163.2656,318.6875 164.5781,317.0313 Q165.9063,315.375 168.4063,315.375 Q169.1094,315.375 169.75,315.5313 Q170.4063,315.6875 170.9688,315.9844 L170.9688,318.7031 Q170.3438,318.125 169.75,317.8594 Q169.1563,317.5781 168.5313,317.5781 Q167.1875,317.5781 166.5,318.6563 Q165.8125,319.7188 165.8125,321.8125 Q165.8125,323.9063 166.5,324.9844 Q167.1875,326.0469 168.5313,326.0469 Q169.1563,326.0469 169.75,325.7813 Q170.3438,325.5 170.9688,324.9219 L170.9688,327.6406 Z \"/><text fill=\"#000000\" font-family=\"sans-serif\" font-size=\"12\" lengthAdjust=\"spacingAndGlyphs\" textLength=\"120\" x=\"182\" y=\"326.1543\">LigneDeCommande</text><line style=\"stroke: #A80036; stroke-width: 1.5;\" x1=\"154\" x2=\"304\" y1=\"338\" y2=\"338\"/><rect fill=\"none\" height=\"6\" style=\"stroke: #C82930; stroke-width: 1.0;\" width=\"6\" x=\"161\" y=\"346\"/><text fill=\"#000000\" font-family=\"sans-serif\" font-size=\"11\" lengthAdjust=\"spacingAndGlyphs\" textLength=\"98\" x=\"173\" y=\"352.2104\">quantité : Integer</text><line style=\"stroke: #A80036; stroke-width: 1.5;\" x1=\"154\" x2=\"304\" y1=\"358.8047\" y2=\"358.8047\"/><!--MD5=[ed6624c6556d5e7b1bd23032162d20b7]\n",
       "class Client--><rect fill=\"#FEFECE\" filter=\"url(#ffz6n8r6r73x1)\" height=\"86.4141\" id=\"Client\" style=\"stroke: #A80036; stroke-width: 1.5;\" width=\"116\" x=\"9\" y=\"8\"/><ellipse cx=\"46.05\" cy=\"24\" fill=\"#ADD1B2\" rx=\"11\" ry=\"11\" style=\"stroke: #A80036; stroke-width: 1.0;\"/><path d=\"M49.0188,29.6406 Q48.4406,29.9375 47.8,30.0781 Q47.1594,30.2344 46.4563,30.2344 Q43.9563,30.2344 42.6281,28.5938 Q41.3156,26.9375 41.3156,23.8125 Q41.3156,20.6875 42.6281,19.0313 Q43.9563,17.375 46.4563,17.375 Q47.1594,17.375 47.8,17.5313 Q48.4563,17.6875 49.0188,17.9844 L49.0188,20.7031 Q48.3938,20.125 47.8,19.8594 Q47.2063,19.5781 46.5813,19.5781 Q45.2375,19.5781 44.55,20.6563 Q43.8625,21.7188 43.8625,23.8125 Q43.8625,25.9063 44.55,26.9844 Q45.2375,28.0469 46.5813,28.0469 Q47.2063,28.0469 47.8,27.7813 Q48.3938,27.5 49.0188,26.9219 L49.0188,29.6406 Z \"/><text fill=\"#000000\" font-family=\"sans-serif\" font-size=\"12\" lengthAdjust=\"spacingAndGlyphs\" textLength=\"35\" x=\"64.95\" y=\"28.1543\">Client</text><line style=\"stroke: #A80036; stroke-width: 1.5;\" x1=\"10\" x2=\"124\" y1=\"40\" y2=\"40\"/><rect fill=\"none\" height=\"6\" style=\"stroke: #C82930; stroke-width: 1.0;\" width=\"6\" x=\"17\" y=\"48\"/><text fill=\"#000000\" font-family=\"sans-serif\" font-size=\"11\" lengthAdjust=\"spacingAndGlyphs\" textLength=\"77\" x=\"29\" y=\"54.2104\">email : String</text><rect fill=\"none\" height=\"6\" style=\"stroke: #C82930; stroke-width: 1.0;\" width=\"6\" x=\"17\" y=\"60.8047\"/><text fill=\"#000000\" font-family=\"sans-serif\" font-size=\"11\" lengthAdjust=\"spacingAndGlyphs\" textLength=\"71\" x=\"29\" y=\"67.0151\">nom : String</text><rect fill=\"none\" height=\"6\" style=\"stroke: #C82930; stroke-width: 1.0;\" width=\"6\" x=\"17\" y=\"73.6094\"/><text fill=\"#000000\" font-family=\"sans-serif\" font-size=\"11\" lengthAdjust=\"spacingAndGlyphs\" textLength=\"90\" x=\"29\" y=\"79.8198\">prenom : String</text><line style=\"stroke: #A80036; stroke-width: 1.5;\" x1=\"10\" x2=\"124\" y1=\"86.4141\" y2=\"86.4141\"/><ellipse cx=\"229\" cy=\"208\" fill=\"#000000\" rx=\"2\" ry=\"2\" style=\"stroke: none; stroke-width: 1.0;\"/><!--MD5=[5e58994a2f0e32c893f4cb98ec0b91f4]\n",
       "link Commande to apoint7--><path d=\"M128.25,208 C168.39,208 215.42,208 226.55,208 \" fill=\"none\" id=\"Commande-apoint7\" style=\"stroke: #A80036; stroke-width: 1.0;\"/><text fill=\"#000000\" font-family=\"sans-serif\" font-size=\"13\" lengthAdjust=\"spacingAndGlyphs\" textLength=\"62\" x=\"146.5\" y=\"201.0669\">comporte</text><text fill=\"#000000\" font-family=\"sans-serif\" font-size=\"13\" lengthAdjust=\"spacingAndGlyphs\" textLength=\"7\" x=\"136.1414\" y=\"204.1847\">*</text><!--MD5=[a25ac98b4e49c86dcf5b35d8b1abc2f0]\n",
       "link apoint7 to Produit--><path d=\"M231.13,208 C241.08,208 251.04,208 260.99,208 \" fill=\"none\" id=\"apoint7-&gt;Produit\" style=\"stroke: #A80036; stroke-width: 1.0;\"/><polygon fill=\"#A80036\" points=\"266.2,208,257.2,204,261.2,208,257.2,212,266.2,208\" style=\"stroke: #A80036; stroke-width: 1.0;\"/><text fill=\"#000000\" font-family=\"sans-serif\" font-size=\"13\" lengthAdjust=\"spacingAndGlyphs\" textLength=\"23\" x=\"238.956\" y=\"202.8554\">1..*</text><!--MD5=[f38a02434c5678a2e9ce26b6952cd29d]\n",
       "link apoint7 to LigneDeCommande--><path d=\"M229,210.42 C229,219.65 229,271.78 229,305.76 \" fill=\"none\" id=\"apoint7-LigneDeCommande\" style=\"stroke: #A80036; stroke-width: 1.0; stroke-dasharray: 7.0,7.0;\"/><!--MD5=[f72067e05319408abc0251939a098f2a]\n",
       "link Client to Commande--><path d=\"M67,94.35 C67,118.29 67,147.89 67,170.75 \" fill=\"none\" id=\"Client-Commande\" style=\"stroke: #A80036; stroke-width: 1.0;\"/><text fill=\"#000000\" font-family=\"sans-serif\" font-size=\"13\" lengthAdjust=\"spacingAndGlyphs\" textLength=\"38\" x=\"68\" y=\"137.0669\">passe</text><text fill=\"#000000\" font-family=\"sans-serif\" font-size=\"13\" lengthAdjust=\"spacingAndGlyphs\" textLength=\"8\" x=\"58.3625\" y=\"114.4987\">1</text><text fill=\"#000000\" font-family=\"sans-serif\" font-size=\"13\" lengthAdjust=\"spacingAndGlyphs\" textLength=\"7\" x=\"59.3766\" y=\"159.8924\">*</text><!--MD5=[5398dd5b79d4f9869b9bc902df30d147]\n",
       "@startuml\n",
       "class Commande { \n",
       "     - numero : Integer\n",
       "     - date : Date \n",
       " }\n",
       "class Produit {\n",
       "     - code : Integer\n",
       "     - prixUnitaire : Integer\n",
       " }\n",
       "class LigneDeCommande { \n",
       "     - quantité : Integer \n",
       " }    \n",
       "\n",
       "class Client { \n",
       "    - email : String \n",
       "    - nom : String \n",
       "    - prenom : String \n",
       " }\n",
       "\n",
       "Commande \"*\" -> \"1..*\" Produit  : comporte\n",
       "(Commande, Produit) .. LigneDeCommande\n",
       "Client \"1\" - - \"*\" Commande : passe\n",
       "@enduml\n",
       "\n",
       "PlantUML version 1.2020.02(Sun Mar 01 10:22:07 UTC 2020)\n",
       "(GPL source distribution)\n",
       "Java Runtime: OpenJDK Runtime Environment\n",
       "JVM: OpenJDK 64-Bit Server VM\n",
       "Java Version: 11.0.18+10-post-Ubuntu-0ubuntu122.04\n",
       "Operating System: Linux\n",
       "Default Encoding: UTF-8\n",
       "Language: en\n",
       "Country: US\n",
       "--></g></svg>"
      ],
      "text/plain": [
       "<IPython.core.display.SVG object>"
      ]
     },
     "execution_count": 6,
     "metadata": {},
     "output_type": "execute_result"
    }
   ],
   "source": [
    "%%plantuml --jar\n",
    "@startuml\n",
    "class Commande { \n",
    "     - numero : Integer\n",
    "     - date : Date \n",
    " }\n",
    "class Produit {\n",
    "     - code : Integer\n",
    "     - prixUnitaire : Integer\n",
    " }\n",
    "class LigneDeCommande { \n",
    "     - quantité : Integer \n",
    " }    \n",
    "\n",
    "class Client { \n",
    "    - email : String \n",
    "    - nom : String \n",
    "    - prenom : String \n",
    " }\n",
    "\n",
    "Commande \"*\" -> \"1..*\" Produit  : comporte\n",
    "(Commande, Produit) .. LigneDeCommande\n",
    "Client \"1\" -- \"*\" Commande : passe\n",
    "@enduml"
   ]
  },
  {
   "cell_type": "markdown",
   "id": "8faa6c8f-3be8-4fa4-9675-c3f2f354adfb",
   "metadata": {
    "user_expressions": []
   },
   "source": [
    "## Initialisation connection SGBD\n",
    "L'intégration de SQL est faite avec [ipython-sql](https://github.com/catherinedevlin/ipython-sql).\n",
    "\n",
    "\n",
    "Pour commencer, il faut changer l'extension SQL pour jupyter."
   ]
  },
  {
   "cell_type": "code",
   "execution_count": 7,
   "id": "ca072ea3-2f43-4542-a7ba-2d4921ca152f",
   "metadata": {
    "tags": []
   },
   "outputs": [],
   "source": [
    "%reload_ext sql"
   ]
  },
  {
   "cell_type": "markdown",
   "id": "5427ddce-56ea-461b-ac29-e4864b97ce8b",
   "metadata": {
    "user_expressions": []
   },
   "source": [
    "Le lancement du serveur PostgreSQL et création d'une base de données est automatique avant le lancement. La base de données est stockée physiqment dans le répertoire 'work/pgdata/DEMO_DB'.\n",
    "\n",
    "L'ouverture d'une connexion à la base de données peut se faire une seule fois ou à chaque requête (il est possible d'avoir plusieurs connections différentes)."
   ]
  },
  {
   "cell_type": "code",
   "execution_count": 8,
   "id": "cfbca6ff-1393-43da-aa4c-16869fa6f8e0",
   "metadata": {
    "tags": []
   },
   "outputs": [],
   "source": [
    "%sql postgresql://localhost/jovyandb"
   ]
  },
  {
   "cell_type": "markdown",
   "id": "497856bb-827f-4b5c-9479-7a76b1fb4919",
   "metadata": {
    "user_expressions": []
   },
   "source": [
    "## Utilisation de SQL\n",
    "L'utilisation SQL peut se faire dans une cellule en le préfixant de %%sql"
   ]
  },
  {
   "cell_type": "code",
   "execution_count": 9,
   "id": "2c918a0c-5a0f-4db0-b76a-6ae37d13589a",
   "metadata": {
    "tags": []
   },
   "outputs": [
    {
     "name": "stdout",
     "output_type": "stream",
     "text": [
      " * postgresql://localhost/jovyandb\n",
      "Done.\n",
      "Done.\n",
      "Done.\n",
      "Done.\n",
      "Done.\n",
      "Done.\n",
      "Done.\n",
      "Done.\n"
     ]
    },
    {
     "data": {
      "text/plain": [
       "[]"
      ]
     },
     "execution_count": 9,
     "metadata": {},
     "output_type": "execute_result"
    }
   ],
   "source": [
    "%%sql\n",
    "DROP TABLE IF EXISTS LIGNE_DE_COMMANDE;\n",
    "DROP TABLE IF EXISTS COMMANDE;\n",
    "DROP TABLE IF EXISTS CLIENT;\n",
    "DROP TABLE IF EXISTS PRODUIT;\n",
    "\n",
    "CREATE TABLE CLIENT (\n",
    "    id_client int GENERATED ALWAYS AS IDENTITY,\n",
    "    email  varchar(255) NOT NULL UNIQUE,\n",
    "    nom    varchar(100) NOT NULL,\n",
    "    prenom varchar(100) NOT NULL,\n",
    "    PRIMARY KEY(id_client) \n",
    ");\n",
    "\n",
    "CREATE TABLE PRODUIT (\n",
    "    code_produit int GENERATED ALWAYS AS IDENTITY,\n",
    "    description varchar(10),\n",
    "    prix_unitaire int,\n",
    "    PRIMARY KEY(code_produit)\n",
    ");\n",
    "    \n",
    "CREATE TABLE COMMANDE (\n",
    "    numero_commande int GENERATED ALWAYS AS IDENTITY,    \n",
    "    date   date DEFAULT CURRENT_DATE,\n",
    "    id_client int,\n",
    "    PRIMARY KEY(numero_commande),\n",
    "    CONSTRAINT fk_client\n",
    "      FOREIGN KEY(id_client) \n",
    "      REFERENCES CLIENT(id_client)\n",
    ");\n",
    "\n",
    "CREATE TABLE LIGNE_DE_COMMANDE (\n",
    "    numero_commande int,\n",
    "    code_produit int,\n",
    "    quantite int,\n",
    "    PRIMARY KEY(numero_commande, code_produit)\n",
    ");"
   ]
  },
  {
   "cell_type": "code",
   "execution_count": 10,
   "id": "e3b35f69-a5eb-4888-b518-84f3a0841fba",
   "metadata": {
    "tags": []
   },
   "outputs": [
    {
     "name": "stdout",
     "output_type": "stream",
     "text": [
      " * postgresql://localhost/jovyandb\n",
      "1 rows affected.\n",
      "1 rows affected.\n",
      "1 rows affected.\n"
     ]
    },
    {
     "data": {
      "text/plain": [
       "[]"
      ]
     },
     "execution_count": 10,
     "metadata": {},
     "output_type": "execute_result"
    }
   ],
   "source": [
    "%%sql\n",
    "INSERT INTO CLIENT (email, nom, prenom) VALUES ('a.b@x.fr','a','b');\n",
    "INSERT INTO CLIENT (email, nom, prenom) VALUES ('c.d@x.fr','c','d');\n",
    "INSERT INTO CLIENT (email, nom, prenom) VALUES ('e.f@x.fr','e','f');"
   ]
  },
  {
   "cell_type": "code",
   "execution_count": 13,
   "id": "9232e8ad-c21e-4bf1-b92d-30be7ec5d94a",
   "metadata": {
    "tags": []
   },
   "outputs": [
    {
     "name": "stdout",
     "output_type": "stream",
     "text": [
      " * postgresql://localhost/jovyandb\n",
      "3 rows affected.\n"
     ]
    },
    {
     "data": {
      "text/html": [
       "<table>\n",
       "    <thead>\n",
       "        <tr>\n",
       "            <th>id_client</th>\n",
       "            <th>email</th>\n",
       "            <th>nom</th>\n",
       "            <th>prenom</th>\n",
       "        </tr>\n",
       "    </thead>\n",
       "    <tbody>\n",
       "        <tr>\n",
       "            <td>1</td>\n",
       "            <td>a.b@x.fr</td>\n",
       "            <td>a</td>\n",
       "            <td>b</td>\n",
       "        </tr>\n",
       "        <tr>\n",
       "            <td>2</td>\n",
       "            <td>c.d@x.fr</td>\n",
       "            <td>c</td>\n",
       "            <td>d</td>\n",
       "        </tr>\n",
       "        <tr>\n",
       "            <td>3</td>\n",
       "            <td>e.f@x.fr</td>\n",
       "            <td>e</td>\n",
       "            <td>f</td>\n",
       "        </tr>\n",
       "    </tbody>\n",
       "</table>"
      ],
      "text/plain": [
       "[(1, 'a.b@x.fr', 'a', 'b'),\n",
       " (2, 'c.d@x.fr', 'c', 'd'),\n",
       " (3, 'e.f@x.fr', 'e', 'f')]"
      ]
     },
     "execution_count": 13,
     "metadata": {},
     "output_type": "execute_result"
    }
   ],
   "source": [
    "%%sql \n",
    "SELECT * FROM CLIENT"
   ]
  },
  {
   "cell_type": "markdown",
   "id": "e9130678-99f7-42c0-a474-aabfbfc8f355",
   "metadata": {
    "user_expressions": []
   },
   "source": [
    "Les résultats des requêtes peuvent être affecté dans des variables python et traitée sous forme de dataframes avec la librairie Panda."
   ]
  },
  {
   "cell_type": "code",
   "execution_count": 14,
   "id": "c0e8873f-6c46-455d-829d-d042770d9e08",
   "metadata": {
    "tags": []
   },
   "outputs": [
    {
     "name": "stdout",
     "output_type": "stream",
     "text": [
      " * postgresql://localhost/jovyandb\n",
      "3 rows affected.\n"
     ]
    },
    {
     "ename": "ModuleNotFoundError",
     "evalue": "No module named 'pandas'",
     "output_type": "error",
     "traceback": [
      "\u001b[0;31m---------------------------------------------------------------------------\u001b[0m",
      "\u001b[0;31mModuleNotFoundError\u001b[0m                       Traceback (most recent call last)",
      "Cell \u001b[0;32mIn[14], line 2\u001b[0m\n\u001b[1;32m      1\u001b[0m clients \u001b[38;5;241m=\u001b[39m get_ipython()\u001b[38;5;241m.\u001b[39mrun_line_magic(\u001b[38;5;124m'\u001b[39m\u001b[38;5;124msql\u001b[39m\u001b[38;5;124m'\u001b[39m, \u001b[38;5;124m'\u001b[39m\u001b[38;5;124m SELECT * FROM CLIENT\u001b[39m\u001b[38;5;124m'\u001b[39m)\n\u001b[0;32m----> 2\u001b[0m \u001b[43mclients\u001b[49m\u001b[38;5;241;43m.\u001b[39;49m\u001b[43mDataFrame\u001b[49m\u001b[43m(\u001b[49m\u001b[43m)\u001b[49m\u001b[38;5;241m.\u001b[39minfo()\n",
      "File \u001b[0;32m/opt/conda/lib/python3.10/site-packages/sql/run.py:168\u001b[0m, in \u001b[0;36mResultSet.DataFrame\u001b[0;34m(self)\u001b[0m\n\u001b[1;32m    166\u001b[0m \u001b[38;5;28;01mdef\u001b[39;00m \u001b[38;5;21mDataFrame\u001b[39m(\u001b[38;5;28mself\u001b[39m):\n\u001b[1;32m    167\u001b[0m \u001b[38;5;250m    \u001b[39m\u001b[38;5;124;03m\"\"\"Returns a Pandas DataFrame instance built from the result set.\"\"\"\u001b[39;00m\n\u001b[0;32m--> 168\u001b[0m     \u001b[38;5;28;01mimport\u001b[39;00m \u001b[38;5;21;01mpandas\u001b[39;00m \u001b[38;5;28;01mas\u001b[39;00m \u001b[38;5;21;01mpd\u001b[39;00m\n\u001b[1;32m    170\u001b[0m     frame \u001b[38;5;241m=\u001b[39m pd\u001b[38;5;241m.\u001b[39mDataFrame(\u001b[38;5;28mself\u001b[39m, columns\u001b[38;5;241m=\u001b[39m(\u001b[38;5;28mself\u001b[39m \u001b[38;5;129;01mand\u001b[39;00m \u001b[38;5;28mself\u001b[39m\u001b[38;5;241m.\u001b[39mkeys) \u001b[38;5;129;01mor\u001b[39;00m [])\n\u001b[1;32m    171\u001b[0m     \u001b[38;5;28;01mreturn\u001b[39;00m frame\n",
      "\u001b[0;31mModuleNotFoundError\u001b[0m: No module named 'pandas'"
     ]
    }
   ],
   "source": [
    "clients = %sql  SELECT * FROM CLIENT\n",
    "clients.DataFrame().info()"
   ]
  },
  {
   "cell_type": "code",
   "execution_count": 15,
   "id": "cc525ac0-15e4-4ef8-a16b-cad00ce948e3",
   "metadata": {
    "tags": []
   },
   "outputs": [
    {
     "name": "stdout",
     "output_type": "stream",
     "text": [
      " * postgresql://localhost/jovyandb\n",
      "1 rows affected.\n",
      "1 rows affected.\n",
      "1 rows affected.\n"
     ]
    },
    {
     "data": {
      "text/plain": [
       "[]"
      ]
     },
     "execution_count": 15,
     "metadata": {},
     "output_type": "execute_result"
    }
   ],
   "source": [
    "%%sql\n",
    "INSERT INTO PRODUIT (description, prix_unitaire) VALUES ('pomme',2);\n",
    "INSERT INTO PRODUIT (description, prix_unitaire) VALUES ('peche',4);\n",
    "INSERT INTO PRODUIT (description, prix_unitaire) VALUES ('poire',3);"
   ]
  },
  {
   "cell_type": "code",
   "execution_count": 16,
   "id": "2ba87c2d-65bf-45f9-a71c-1130c11c7e2b",
   "metadata": {
    "tags": []
   },
   "outputs": [
    {
     "name": "stdout",
     "output_type": "stream",
     "text": [
      " * postgresql://localhost/jovyandb\n",
      "3 rows affected.\n"
     ]
    },
    {
     "data": {
      "text/html": [
       "<table>\n",
       "    <thead>\n",
       "        <tr>\n",
       "            <th>code_produit</th>\n",
       "            <th>description</th>\n",
       "            <th>prix_unitaire</th>\n",
       "        </tr>\n",
       "    </thead>\n",
       "    <tbody>\n",
       "        <tr>\n",
       "            <td>1</td>\n",
       "            <td>pomme</td>\n",
       "            <td>2</td>\n",
       "        </tr>\n",
       "        <tr>\n",
       "            <td>2</td>\n",
       "            <td>peche</td>\n",
       "            <td>4</td>\n",
       "        </tr>\n",
       "        <tr>\n",
       "            <td>3</td>\n",
       "            <td>poire</td>\n",
       "            <td>3</td>\n",
       "        </tr>\n",
       "    </tbody>\n",
       "</table>"
      ],
      "text/plain": [
       "[(1, 'pomme', 2), (2, 'peche', 4), (3, 'poire', 3)]"
      ]
     },
     "execution_count": 16,
     "metadata": {},
     "output_type": "execute_result"
    }
   ],
   "source": [
    "%%sql \n",
    "SELECT * FROM PRODUIT"
   ]
  },
  {
   "cell_type": "code",
   "execution_count": 17,
   "id": "e68b5145-ea69-4574-ac1c-6f1c67de5567",
   "metadata": {
    "tags": []
   },
   "outputs": [
    {
     "name": "stdout",
     "output_type": "stream",
     "text": [
      " * postgresql://localhost/jovyandb\n",
      "1 rows affected.\n"
     ]
    }
   ],
   "source": [
    "insert_command_result=%sql INSERT INTO COMMANDE (id_client) VALUES (1) RETURNING numero_commande;\n",
    "numero_commande=insert_command_result[0][0]"
   ]
  },
  {
   "cell_type": "markdown",
   "id": "2b458632-71cf-4872-ba51-b226bedfe637",
   "metadata": {
    "user_expressions": []
   },
   "source": [
    "Il est aussi possible d'utiliser des variables python comme paramètres des requêtes."
   ]
  },
  {
   "cell_type": "code",
   "execution_count": 18,
   "id": "ea570c9b-8b52-4099-b5ac-fd14e880def0",
   "metadata": {
    "tags": []
   },
   "outputs": [
    {
     "name": "stdout",
     "output_type": "stream",
     "text": [
      " * postgresql://localhost/jovyandb\n",
      "1 rows affected.\n",
      "1 rows affected.\n",
      "1 rows affected.\n",
      "3 rows affected.\n"
     ]
    },
    {
     "data": {
      "text/html": [
       "<table>\n",
       "    <thead>\n",
       "        <tr>\n",
       "            <th>numero_commande</th>\n",
       "            <th>code_produit</th>\n",
       "            <th>quantite</th>\n",
       "        </tr>\n",
       "    </thead>\n",
       "    <tbody>\n",
       "        <tr>\n",
       "            <td>1</td>\n",
       "            <td>1</td>\n",
       "            <td>5</td>\n",
       "        </tr>\n",
       "        <tr>\n",
       "            <td>1</td>\n",
       "            <td>2</td>\n",
       "            <td>2</td>\n",
       "        </tr>\n",
       "        <tr>\n",
       "            <td>1</td>\n",
       "            <td>3</td>\n",
       "            <td>1</td>\n",
       "        </tr>\n",
       "    </tbody>\n",
       "</table>"
      ],
      "text/plain": [
       "[(1, 1, 5), (1, 2, 2), (1, 3, 1)]"
      ]
     },
     "execution_count": 18,
     "metadata": {},
     "output_type": "execute_result"
    }
   ],
   "source": [
    "%%sql\n",
    "INSERT INTO LIGNE_DE_COMMANDE VALUES ({numero_commande}, 1,5);\n",
    "INSERT INTO LIGNE_DE_COMMANDE VALUES ({numero_commande}, 2,2);\n",
    "INSERT INTO LIGNE_DE_COMMANDE VALUES ({numero_commande}, 3,1);\n",
    "\n",
    "SELECT * FROM LIGNE_DE_COMMANDE;"
   ]
  },
  {
   "cell_type": "markdown",
   "id": "a5f348ed-9b42-430d-afde-ae138eb03712",
   "metadata": {
    "user_expressions": []
   },
   "source": [
    "Et donc de les afficher très simple y compris sous forme graphique."
   ]
  },
  {
   "cell_type": "code",
   "execution_count": 19,
   "id": "96f25786-c320-49ff-8345-88edd2f827ec",
   "metadata": {
    "tags": []
   },
   "outputs": [
    {
     "name": "stdout",
     "output_type": "stream",
     "text": [
      " * postgresql://localhost/jovyandb\n",
      "3 rows affected.\n"
     ]
    },
    {
     "ename": "ModuleNotFoundError",
     "evalue": "No module named 'pandas'",
     "output_type": "error",
     "traceback": [
      "\u001b[0;31m---------------------------------------------------------------------------\u001b[0m",
      "\u001b[0;31mModuleNotFoundError\u001b[0m                       Traceback (most recent call last)",
      "Cell \u001b[0;32mIn[19], line 2\u001b[0m\n\u001b[1;32m      1\u001b[0m result \u001b[38;5;241m=\u001b[39m get_ipython()\u001b[38;5;241m.\u001b[39mrun_line_magic(\u001b[38;5;124m'\u001b[39m\u001b[38;5;124msql\u001b[39m\u001b[38;5;124m'\u001b[39m, \u001b[38;5;124m'\u001b[39m\u001b[38;5;124mselect * from PRODUIT;\u001b[39m\u001b[38;5;124m'\u001b[39m)\n\u001b[0;32m----> 2\u001b[0m produits_dataframe \u001b[38;5;241m=\u001b[39m \u001b[43mresult\u001b[49m\u001b[38;5;241;43m.\u001b[39;49m\u001b[43mDataFrame\u001b[49m\u001b[43m(\u001b[49m\u001b[43m)\u001b[49m\n\u001b[1;32m      3\u001b[0m produits_dataframe\u001b[38;5;241m.\u001b[39mset_index(\u001b[38;5;124m'\u001b[39m\u001b[38;5;124mdescription\u001b[39m\u001b[38;5;124m'\u001b[39m)[[\u001b[38;5;124m\"\u001b[39m\u001b[38;5;124mprix_unitaire\u001b[39m\u001b[38;5;124m\"\u001b[39m]]\u001b[38;5;241m.\u001b[39mplot\u001b[38;5;241m.\u001b[39mbar(rot\u001b[38;5;241m=\u001b[39m\u001b[38;5;241m0\u001b[39m)\n",
      "File \u001b[0;32m/opt/conda/lib/python3.10/site-packages/sql/run.py:168\u001b[0m, in \u001b[0;36mResultSet.DataFrame\u001b[0;34m(self)\u001b[0m\n\u001b[1;32m    166\u001b[0m \u001b[38;5;28;01mdef\u001b[39;00m \u001b[38;5;21mDataFrame\u001b[39m(\u001b[38;5;28mself\u001b[39m):\n\u001b[1;32m    167\u001b[0m \u001b[38;5;250m    \u001b[39m\u001b[38;5;124;03m\"\"\"Returns a Pandas DataFrame instance built from the result set.\"\"\"\u001b[39;00m\n\u001b[0;32m--> 168\u001b[0m     \u001b[38;5;28;01mimport\u001b[39;00m \u001b[38;5;21;01mpandas\u001b[39;00m \u001b[38;5;28;01mas\u001b[39;00m \u001b[38;5;21;01mpd\u001b[39;00m\n\u001b[1;32m    170\u001b[0m     frame \u001b[38;5;241m=\u001b[39m pd\u001b[38;5;241m.\u001b[39mDataFrame(\u001b[38;5;28mself\u001b[39m, columns\u001b[38;5;241m=\u001b[39m(\u001b[38;5;28mself\u001b[39m \u001b[38;5;129;01mand\u001b[39;00m \u001b[38;5;28mself\u001b[39m\u001b[38;5;241m.\u001b[39mkeys) \u001b[38;5;129;01mor\u001b[39;00m [])\n\u001b[1;32m    171\u001b[0m     \u001b[38;5;28;01mreturn\u001b[39;00m frame\n",
      "\u001b[0;31mModuleNotFoundError\u001b[0m: No module named 'pandas'"
     ]
    }
   ],
   "source": [
    "result = %sql select * from PRODUIT;  \n",
    "produits_dataframe = result.DataFrame()\n",
    "produits_dataframe.set_index('description')[[\"prix_unitaire\"]].plot.bar(rot=0)"
   ]
  },
  {
   "cell_type": "code",
   "execution_count": null,
   "id": "dfd88623-cc20-45f1-86a9-4f6294bfafcb",
   "metadata": {},
   "outputs": [],
   "source": []
  }
 ],
 "metadata": {
  "kernelspec": {
   "display_name": "Python 3 (ipykernel)",
   "language": "python",
   "name": "python3"
  },
  "language_info": {
   "codemirror_mode": {
    "name": "ipython",
    "version": 3
   },
   "file_extension": ".py",
   "mimetype": "text/x-python",
   "name": "python",
   "nbconvert_exporter": "python",
   "pygments_lexer": "ipython3",
   "version": "3.10.10"
  }
 },
 "nbformat": 4,
 "nbformat_minor": 5
}
